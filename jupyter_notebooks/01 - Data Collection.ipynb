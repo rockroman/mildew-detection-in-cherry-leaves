{
 "cells": [
  {
   "cell_type": "markdown",
   "metadata": {
    "id": "0aStgWSO0E0E"
   },
   "source": [
    "# **Data Collection**"
   ]
  },
  {
   "cell_type": "markdown",
   "metadata": {
    "id": "1eLEkw5O0ECa"
   },
   "source": [
    "## Objectives\n",
    "\n",
    "* Retrieve data from the Kaggle image dataset provided by Farmy & Foods and prepare it for subsequent processing.\n",
    "\n",
    "## Inputs\n",
    "\n",
    "* Kaggle JSON file - authentication token\n",
    "\n",
    "## Outputs\n",
    "\n",
    "* Dataset Generation: https://www.kaggle.com/datasets/codeinstitute/cherry-leaves\n",
    "\n",
    "### Additional Comments\n",
    "\n",
    "* The client has provided the data under a non-disclosure agreement (NDA), necessitating its restricted sharing solely with project-involved professionals.\n",
    "Regarding the dataset's nature, it implies binary image classification, distinguishing between healthy cherry leaves and those infected with powdery mildew.\n",
    "\n"
   ]
  },
  {
   "cell_type": "markdown",
   "metadata": {
    "id": "9uWZXH9LwoQg"
   },
   "source": [
    "---"
   ]
  },
  {
   "cell_type": "markdown",
   "metadata": {},
   "source": [
    "## Import Packages"
   ]
  },
  {
   "cell_type": "code",
   "execution_count": 1,
   "metadata": {
    "id": "wZfF_j-Bz3i4",
    "outputId": "66943449-1436-4c3d-85c7-b85f9f78349b"
   },
   "outputs": [
    {
     "name": "stdout",
     "output_type": "stream",
     "text": [
      "Requirement already satisfied: absl-py==2.1.0 in /workspace/.pyenv_mirror/user/current/lib/python3.12/site-packages (from -r /workspace/mildew-detection-in-cherry-leaves/requirements.txt (line 1)) (2.1.0)\n",
      "Requirement already satisfied: altair==5.1.2 in /workspace/.pyenv_mirror/user/current/lib/python3.12/site-packages (from -r /workspace/mildew-detection-in-cherry-leaves/requirements.txt (line 2)) (5.1.2)\n",
      "Requirement already satisfied: astunparse==1.6.3 in /workspace/.pyenv_mirror/user/current/lib/python3.12/site-packages (from -r /workspace/mildew-detection-in-cherry-leaves/requirements.txt (line 3)) (1.6.3)\n",
      "Requirement already satisfied: blinker==1.9.0 in /workspace/.pyenv_mirror/user/current/lib/python3.12/site-packages (from -r /workspace/mildew-detection-in-cherry-leaves/requirements.txt (line 4)) (1.9.0)\n",
      "Requirement already satisfied: cachetools==5.5.0 in /workspace/.pyenv_mirror/user/current/lib/python3.12/site-packages (from -r /workspace/mildew-detection-in-cherry-leaves/requirements.txt (line 5)) (5.5.0)\n",
      "Requirement already satisfied: click==8.1.7 in /workspace/.pyenv_mirror/user/current/lib/python3.12/site-packages (from -r /workspace/mildew-detection-in-cherry-leaves/requirements.txt (line 6)) (8.1.7)\n",
      "Requirement already satisfied: contourpy==1.3.1 in /workspace/.pyenv_mirror/user/current/lib/python3.12/site-packages (from -r /workspace/mildew-detection-in-cherry-leaves/requirements.txt (line 7)) (1.3.1)\n",
      "Requirement already satisfied: cycler==0.12.1 in /workspace/.pyenv_mirror/user/current/lib/python3.12/site-packages (from -r /workspace/mildew-detection-in-cherry-leaves/requirements.txt (line 8)) (0.12.1)\n",
      "Requirement already satisfied: flatbuffers==24.3.25 in /workspace/.pyenv_mirror/user/current/lib/python3.12/site-packages (from -r /workspace/mildew-detection-in-cherry-leaves/requirements.txt (line 9)) (24.3.25)\n",
      "Requirement already satisfied: fonttools==4.55.2 in /workspace/.pyenv_mirror/user/current/lib/python3.12/site-packages (from -r /workspace/mildew-detection-in-cherry-leaves/requirements.txt (line 10)) (4.55.2)\n",
      "Requirement already satisfied: gast==0.6.0 in /workspace/.pyenv_mirror/user/current/lib/python3.12/site-packages (from -r /workspace/mildew-detection-in-cherry-leaves/requirements.txt (line 11)) (0.6.0)\n",
      "Requirement already satisfied: gitdb==4.0.11 in /workspace/.pyenv_mirror/user/current/lib/python3.12/site-packages (from -r /workspace/mildew-detection-in-cherry-leaves/requirements.txt (line 12)) (4.0.11)\n",
      "Requirement already satisfied: GitPython==3.1.43 in /workspace/.pyenv_mirror/user/current/lib/python3.12/site-packages (from -r /workspace/mildew-detection-in-cherry-leaves/requirements.txt (line 13)) (3.1.43)\n",
      "Requirement already satisfied: google-pasta==0.2.0 in /workspace/.pyenv_mirror/user/current/lib/python3.12/site-packages (from -r /workspace/mildew-detection-in-cherry-leaves/requirements.txt (line 14)) (0.2.0)\n",
      "Requirement already satisfied: grpcio==1.68.1 in /workspace/.pyenv_mirror/user/current/lib/python3.12/site-packages (from -r /workspace/mildew-detection-in-cherry-leaves/requirements.txt (line 15)) (1.68.1)\n",
      "Requirement already satisfied: h5py==3.12.1 in /workspace/.pyenv_mirror/user/current/lib/python3.12/site-packages (from -r /workspace/mildew-detection-in-cherry-leaves/requirements.txt (line 16)) (3.12.1)\n",
      "Requirement already satisfied: importlib-metadata==6.11.0 in /workspace/.pyenv_mirror/user/current/lib/python3.12/site-packages (from -r /workspace/mildew-detection-in-cherry-leaves/requirements.txt (line 17)) (6.11.0)\n",
      "Requirement already satisfied: joblib==1.4.2 in /workspace/.pyenv_mirror/user/current/lib/python3.12/site-packages (from -r /workspace/mildew-detection-in-cherry-leaves/requirements.txt (line 18)) (1.4.2)\n",
      "Requirement already satisfied: keras==3.7.0 in /workspace/.pyenv_mirror/user/current/lib/python3.12/site-packages (from -r /workspace/mildew-detection-in-cherry-leaves/requirements.txt (line 19)) (3.7.0)\n",
      "Requirement already satisfied: kiwisolver==1.4.7 in /workspace/.pyenv_mirror/user/current/lib/python3.12/site-packages (from -r /workspace/mildew-detection-in-cherry-leaves/requirements.txt (line 20)) (1.4.7)\n",
      "Requirement already satisfied: libclang==18.1.1 in /workspace/.pyenv_mirror/user/current/lib/python3.12/site-packages (from -r /workspace/mildew-detection-in-cherry-leaves/requirements.txt (line 21)) (18.1.1)\n",
      "Requirement already satisfied: Markdown==3.7 in /workspace/.pyenv_mirror/user/current/lib/python3.12/site-packages (from -r /workspace/mildew-detection-in-cherry-leaves/requirements.txt (line 22)) (3.7)\n",
      "Requirement already satisfied: matplotlib==3.8.2 in /workspace/.pyenv_mirror/user/current/lib/python3.12/site-packages (from -r /workspace/mildew-detection-in-cherry-leaves/requirements.txt (line 23)) (3.8.2)\n",
      "Requirement already satisfied: ml-dtypes==0.3.2 in /workspace/.pyenv_mirror/user/current/lib/python3.12/site-packages (from -r /workspace/mildew-detection-in-cherry-leaves/requirements.txt (line 24)) (0.3.2)\n",
      "Requirement already satisfied: namex==0.0.8 in /workspace/.pyenv_mirror/user/current/lib/python3.12/site-packages (from -r /workspace/mildew-detection-in-cherry-leaves/requirements.txt (line 25)) (0.0.8)\n",
      "Requirement already satisfied: numpy==1.26.2 in /workspace/.pyenv_mirror/user/current/lib/python3.12/site-packages (from -r /workspace/mildew-detection-in-cherry-leaves/requirements.txt (line 26)) (1.26.2)\n",
      "Requirement already satisfied: opt_einsum==3.4.0 in /workspace/.pyenv_mirror/user/current/lib/python3.12/site-packages (from -r /workspace/mildew-detection-in-cherry-leaves/requirements.txt (line 27)) (3.4.0)\n",
      "Requirement already satisfied: optree==0.13.1 in /workspace/.pyenv_mirror/user/current/lib/python3.12/site-packages (from -r /workspace/mildew-detection-in-cherry-leaves/requirements.txt (line 28)) (0.13.1)\n",
      "Requirement already satisfied: packaging==23.2 in /workspace/.pyenv_mirror/user/current/lib/python3.12/site-packages (from -r /workspace/mildew-detection-in-cherry-leaves/requirements.txt (line 29)) (23.2)\n",
      "Requirement already satisfied: pandas==2.1.3 in /workspace/.pyenv_mirror/user/current/lib/python3.12/site-packages (from -r /workspace/mildew-detection-in-cherry-leaves/requirements.txt (line 30)) (2.1.3)\n",
      "Requirement already satisfied: pillow==10.4.0 in /workspace/.pyenv_mirror/user/current/lib/python3.12/site-packages (from -r /workspace/mildew-detection-in-cherry-leaves/requirements.txt (line 31)) (10.4.0)\n",
      "Requirement already satisfied: plotly==5.18.0 in /workspace/.pyenv_mirror/user/current/lib/python3.12/site-packages (from -r /workspace/mildew-detection-in-cherry-leaves/requirements.txt (line 32)) (5.18.0)\n",
      "Requirement already satisfied: protobuf==4.25.1 in /workspace/.pyenv_mirror/user/current/lib/python3.12/site-packages (from -r /workspace/mildew-detection-in-cherry-leaves/requirements.txt (line 33)) (4.25.1)\n",
      "Requirement already satisfied: pyarrow==18.1.0 in /workspace/.pyenv_mirror/user/current/lib/python3.12/site-packages (from -r /workspace/mildew-detection-in-cherry-leaves/requirements.txt (line 34)) (18.1.0)\n",
      "Requirement already satisfied: pydeck==0.9.1 in /workspace/.pyenv_mirror/user/current/lib/python3.12/site-packages (from -r /workspace/mildew-detection-in-cherry-leaves/requirements.txt (line 35)) (0.9.1)\n",
      "Requirement already satisfied: pyparsing==3.2.0 in /workspace/.pyenv_mirror/user/current/lib/python3.12/site-packages (from -r /workspace/mildew-detection-in-cherry-leaves/requirements.txt (line 36)) (3.2.0)\n",
      "Requirement already satisfied: pytz==2024.2 in /workspace/.pyenv_mirror/user/current/lib/python3.12/site-packages (from -r /workspace/mildew-detection-in-cherry-leaves/requirements.txt (line 37)) (2024.2)\n",
      "Requirement already satisfied: scikit-learn==1.3.2 in /workspace/.pyenv_mirror/user/current/lib/python3.12/site-packages (from -r /workspace/mildew-detection-in-cherry-leaves/requirements.txt (line 38)) (1.3.2)\n",
      "Requirement already satisfied: scipy==1.14.1 in /workspace/.pyenv_mirror/user/current/lib/python3.12/site-packages (from -r /workspace/mildew-detection-in-cherry-leaves/requirements.txt (line 39)) (1.14.1)\n",
      "Requirement already satisfied: seaborn==0.13.0 in /workspace/.pyenv_mirror/user/current/lib/python3.12/site-packages (from -r /workspace/mildew-detection-in-cherry-leaves/requirements.txt (line 40)) (0.13.0)\n",
      "Requirement already satisfied: smmap==5.0.1 in /workspace/.pyenv_mirror/user/current/lib/python3.12/site-packages (from -r /workspace/mildew-detection-in-cherry-leaves/requirements.txt (line 41)) (5.0.1)\n",
      "Requirement already satisfied: streamlit==1.28.2 in /workspace/.pyenv_mirror/user/current/lib/python3.12/site-packages (from -r /workspace/mildew-detection-in-cherry-leaves/requirements.txt (line 42)) (1.28.2)\n",
      "Requirement already satisfied: tenacity==8.5.0 in /workspace/.pyenv_mirror/user/current/lib/python3.12/site-packages (from -r /workspace/mildew-detection-in-cherry-leaves/requirements.txt (line 43)) (8.5.0)\n",
      "Requirement already satisfied: tensorboard==2.16.2 in /workspace/.pyenv_mirror/user/current/lib/python3.12/site-packages (from -r /workspace/mildew-detection-in-cherry-leaves/requirements.txt (line 44)) (2.16.2)\n",
      "Requirement already satisfied: tensorboard-data-server==0.7.2 in /workspace/.pyenv_mirror/user/current/lib/python3.12/site-packages (from -r /workspace/mildew-detection-in-cherry-leaves/requirements.txt (line 45)) (0.7.2)\n",
      "Requirement already satisfied: tensorflow-cpu==2.16.2 in /workspace/.pyenv_mirror/user/current/lib/python3.12/site-packages (from -r /workspace/mildew-detection-in-cherry-leaves/requirements.txt (line 46)) (2.16.2)\n",
      "Requirement already satisfied: termcolor==2.5.0 in /workspace/.pyenv_mirror/user/current/lib/python3.12/site-packages (from -r /workspace/mildew-detection-in-cherry-leaves/requirements.txt (line 47)) (2.5.0)\n",
      "Requirement already satisfied: threadpoolctl==3.5.0 in /workspace/.pyenv_mirror/user/current/lib/python3.12/site-packages (from -r /workspace/mildew-detection-in-cherry-leaves/requirements.txt (line 48)) (3.5.0)\n",
      "Requirement already satisfied: toml==0.10.2 in /workspace/.pyenv_mirror/user/current/lib/python3.12/site-packages (from -r /workspace/mildew-detection-in-cherry-leaves/requirements.txt (line 49)) (0.10.2)\n",
      "Requirement already satisfied: toolz==1.0.0 in /workspace/.pyenv_mirror/user/current/lib/python3.12/site-packages (from -r /workspace/mildew-detection-in-cherry-leaves/requirements.txt (line 50)) (1.0.0)\n",
      "Requirement already satisfied: tzdata==2024.2 in /workspace/.pyenv_mirror/user/current/lib/python3.12/site-packages (from -r /workspace/mildew-detection-in-cherry-leaves/requirements.txt (line 51)) (2024.2)\n",
      "Requirement already satisfied: tzlocal==5.2 in /workspace/.pyenv_mirror/user/current/lib/python3.12/site-packages (from -r /workspace/mildew-detection-in-cherry-leaves/requirements.txt (line 52)) (5.2)\n",
      "Requirement already satisfied: validators==0.34.0 in /workspace/.pyenv_mirror/user/current/lib/python3.12/site-packages (from -r /workspace/mildew-detection-in-cherry-leaves/requirements.txt (line 53)) (0.34.0)\n",
      "Requirement already satisfied: watchdog==6.0.0 in /workspace/.pyenv_mirror/user/current/lib/python3.12/site-packages (from -r /workspace/mildew-detection-in-cherry-leaves/requirements.txt (line 54)) (6.0.0)\n",
      "Requirement already satisfied: Werkzeug==3.1.3 in /workspace/.pyenv_mirror/user/current/lib/python3.12/site-packages (from -r /workspace/mildew-detection-in-cherry-leaves/requirements.txt (line 55)) (3.1.3)\n",
      "Requirement already satisfied: wrapt==1.17.0 in /workspace/.pyenv_mirror/user/current/lib/python3.12/site-packages (from -r /workspace/mildew-detection-in-cherry-leaves/requirements.txt (line 56)) (1.17.0)\n",
      "Requirement already satisfied: jinja2 in /home/gitpod/.pyenv/versions/3.12.7/lib/python3.12/site-packages (from altair==5.1.2->-r /workspace/mildew-detection-in-cherry-leaves/requirements.txt (line 2)) (3.1.4)\n",
      "Requirement already satisfied: jsonschema>=3.0 in /home/gitpod/.pyenv/versions/3.12.7/lib/python3.12/site-packages (from altair==5.1.2->-r /workspace/mildew-detection-in-cherry-leaves/requirements.txt (line 2)) (4.23.0)\n",
      "Requirement already satisfied: wheel<1.0,>=0.23.0 in /home/gitpod/.pyenv/versions/3.12.7/lib/python3.12/site-packages (from astunparse==1.6.3->-r /workspace/mildew-detection-in-cherry-leaves/requirements.txt (line 3)) (0.44.0)\n",
      "Requirement already satisfied: six<2.0,>=1.6.1 in /home/gitpod/.pyenv/versions/3.12.7/lib/python3.12/site-packages (from astunparse==1.6.3->-r /workspace/mildew-detection-in-cherry-leaves/requirements.txt (line 3)) (1.16.0)\n",
      "Requirement already satisfied: zipp>=0.5 in /home/gitpod/.pyenv/versions/3.12.7/lib/python3.12/site-packages (from importlib-metadata==6.11.0->-r /workspace/mildew-detection-in-cherry-leaves/requirements.txt (line 17)) (3.20.2)\n",
      "Requirement already satisfied: rich in /home/gitpod/.pyenv/versions/3.12.7/lib/python3.12/site-packages (from keras==3.7.0->-r /workspace/mildew-detection-in-cherry-leaves/requirements.txt (line 19)) (13.9.3)\n",
      "Requirement already satisfied: python-dateutil>=2.7 in /home/gitpod/.pyenv/versions/3.12.7/lib/python3.12/site-packages (from matplotlib==3.8.2->-r /workspace/mildew-detection-in-cherry-leaves/requirements.txt (line 23)) (2.9.0.post0)\n",
      "Requirement already satisfied: typing-extensions>=4.5.0 in /home/gitpod/.pyenv/versions/3.12.7/lib/python3.12/site-packages (from optree==0.13.1->-r /workspace/mildew-detection-in-cherry-leaves/requirements.txt (line 28)) (4.12.2)\n",
      "Requirement already satisfied: requests<3,>=2.27 in /home/gitpod/.pyenv/versions/3.12.7/lib/python3.12/site-packages (from streamlit==1.28.2->-r /workspace/mildew-detection-in-cherry-leaves/requirements.txt (line 42)) (2.32.3)\n",
      "Requirement already satisfied: tornado<7,>=6.0.3 in /home/gitpod/.pyenv/versions/3.12.7/lib/python3.12/site-packages (from streamlit==1.28.2->-r /workspace/mildew-detection-in-cherry-leaves/requirements.txt (line 42)) (6.4.1)\n",
      "Requirement already satisfied: setuptools>=41.0.0 in /home/gitpod/.pyenv/versions/3.12.7/lib/python3.12/site-packages (from tensorboard==2.16.2->-r /workspace/mildew-detection-in-cherry-leaves/requirements.txt (line 44)) (75.2.0)\n",
      "Requirement already satisfied: MarkupSafe>=2.1.1 in /home/gitpod/.pyenv/versions/3.12.7/lib/python3.12/site-packages (from Werkzeug==3.1.3->-r /workspace/mildew-detection-in-cherry-leaves/requirements.txt (line 55)) (3.0.2)\n",
      "Requirement already satisfied: attrs>=22.2.0 in /home/gitpod/.pyenv/versions/3.12.7/lib/python3.12/site-packages (from jsonschema>=3.0->altair==5.1.2->-r /workspace/mildew-detection-in-cherry-leaves/requirements.txt (line 2)) (24.2.0)\n",
      "Requirement already satisfied: jsonschema-specifications>=2023.03.6 in /home/gitpod/.pyenv/versions/3.12.7/lib/python3.12/site-packages (from jsonschema>=3.0->altair==5.1.2->-r /workspace/mildew-detection-in-cherry-leaves/requirements.txt (line 2)) (2024.10.1)\n",
      "Requirement already satisfied: referencing>=0.28.4 in /home/gitpod/.pyenv/versions/3.12.7/lib/python3.12/site-packages (from jsonschema>=3.0->altair==5.1.2->-r /workspace/mildew-detection-in-cherry-leaves/requirements.txt (line 2)) (0.35.1)\n",
      "Requirement already satisfied: rpds-py>=0.7.1 in /home/gitpod/.pyenv/versions/3.12.7/lib/python3.12/site-packages (from jsonschema>=3.0->altair==5.1.2->-r /workspace/mildew-detection-in-cherry-leaves/requirements.txt (line 2)) (0.20.0)\n",
      "Requirement already satisfied: charset-normalizer<4,>=2 in /home/gitpod/.pyenv/versions/3.12.7/lib/python3.12/site-packages (from requests<3,>=2.27->streamlit==1.28.2->-r /workspace/mildew-detection-in-cherry-leaves/requirements.txt (line 42)) (3.4.0)\n",
      "Requirement already satisfied: idna<4,>=2.5 in /home/gitpod/.pyenv/versions/3.12.7/lib/python3.12/site-packages (from requests<3,>=2.27->streamlit==1.28.2->-r /workspace/mildew-detection-in-cherry-leaves/requirements.txt (line 42)) (3.10)\n",
      "Requirement already satisfied: urllib3<3,>=1.21.1 in /home/gitpod/.pyenv/versions/3.12.7/lib/python3.12/site-packages (from requests<3,>=2.27->streamlit==1.28.2->-r /workspace/mildew-detection-in-cherry-leaves/requirements.txt (line 42)) (2.2.3)\n",
      "Requirement already satisfied: certifi>=2017.4.17 in /home/gitpod/.pyenv/versions/3.12.7/lib/python3.12/site-packages (from requests<3,>=2.27->streamlit==1.28.2->-r /workspace/mildew-detection-in-cherry-leaves/requirements.txt (line 42)) (2024.8.30)\n",
      "Requirement already satisfied: markdown-it-py>=2.2.0 in /home/gitpod/.pyenv/versions/3.12.7/lib/python3.12/site-packages (from rich->keras==3.7.0->-r /workspace/mildew-detection-in-cherry-leaves/requirements.txt (line 19)) (3.0.0)\n",
      "Requirement already satisfied: pygments<3.0.0,>=2.13.0 in /home/gitpod/.pyenv/versions/3.12.7/lib/python3.12/site-packages (from rich->keras==3.7.0->-r /workspace/mildew-detection-in-cherry-leaves/requirements.txt (line 19)) (2.18.0)\n",
      "Requirement already satisfied: mdurl~=0.1 in /home/gitpod/.pyenv/versions/3.12.7/lib/python3.12/site-packages (from markdown-it-py>=2.2.0->rich->keras==3.7.0->-r /workspace/mildew-detection-in-cherry-leaves/requirements.txt (line 19)) (0.1.2)\n",
      "\n",
      "\u001b[1m[\u001b[0m\u001b[34;49mnotice\u001b[0m\u001b[1;39;49m]\u001b[0m\u001b[39;49m A new release of pip is available: \u001b[0m\u001b[31;49m24.2\u001b[0m\u001b[39;49m -> \u001b[0m\u001b[32;49m24.3.1\u001b[0m\n",
      "\u001b[1m[\u001b[0m\u001b[34;49mnotice\u001b[0m\u001b[1;39;49m]\u001b[0m\u001b[39;49m To update, run: \u001b[0m\u001b[32;49m/home/gitpod/.pyenv/versions/3.12.7/bin/python3 -m pip install --upgrade pip\u001b[0m\n",
      "Note: you may need to restart the kernel to use updated packages.\n"
     ]
    }
   ],
   "source": [
    "%pip install -r /workspace/mildew-detection-in-cherry-leaves/requirements.txt"
   ]
  },
  {
   "cell_type": "code",
   "execution_count": 2,
   "metadata": {},
   "outputs": [],
   "source": [
    "import numpy\n",
    "import os"
   ]
  },
  {
   "cell_type": "markdown",
   "metadata": {},
   "source": [
    "## Change Working directory "
   ]
  },
  {
   "cell_type": "markdown",
   "metadata": {},
   "source": [
    "* Change working directory to current one"
   ]
  },
  {
   "cell_type": "code",
   "execution_count": 3,
   "metadata": {
    "id": "TwHsQRWjz3i9",
    "outputId": "86849db3-cd2f-4cc5-ebb8-2d0caafa1a2c"
   },
   "outputs": [
    {
     "data": {
      "text/plain": [
       "'/workspace/mildew-detection-in-cherry-leaves/jupyter_notebooks'"
      ]
     },
     "execution_count": 3,
     "metadata": {},
     "output_type": "execute_result"
    }
   ],
   "source": [
    "current_dir = os.getcwd()\n",
    "current_dir"
   ]
  },
  {
   "cell_type": "code",
   "execution_count": 4,
   "metadata": {},
   "outputs": [
    {
     "name": "stdout",
     "output_type": "stream",
     "text": [
      "You set a new current directory\n"
     ]
    }
   ],
   "source": [
    "import os\n",
    "current_dir = os.getcwd()\n",
    "current_dir\n",
    "os.chdir('/workspace/mildew-detection-in-cherry-leaves')\n",
    "print(\"You set a new current directory\")"
   ]
  },
  {
   "cell_type": "markdown",
   "metadata": {
    "id": "M_xPk_Ijz3i-"
   },
   "source": [
    "* Confirm the new current directory"
   ]
  },
  {
   "cell_type": "code",
   "execution_count": 5,
   "metadata": {
    "id": "vz3S-_kjz3jA",
    "outputId": "00b79ae4-75d0-4a96-d193-ac9ef9847ea2"
   },
   "outputs": [
    {
     "data": {
      "text/plain": [
       "'/workspace/mildew-detection-in-cherry-leaves'"
      ]
     },
     "execution_count": 5,
     "metadata": {},
     "output_type": "execute_result"
    }
   ],
   "source": [
    "current_dir = os.getcwd()\n",
    "current_dir"
   ]
  },
  {
   "cell_type": "markdown",
   "metadata": {
    "id": "-mavJ8DibrcQ"
   },
   "source": [
    "## Install Kaggle "
   ]
  },
  {
   "cell_type": "code",
   "execution_count": 6,
   "metadata": {},
   "outputs": [
    {
     "name": "stdout",
     "output_type": "stream",
     "text": [
      "Requirement already satisfied: kaggle==1.5.12 in /home/gitpod/.pyenv/versions/3.12.7/lib/python3.12/site-packages (1.5.12)\n",
      "Requirement already satisfied: six>=1.10 in /home/gitpod/.pyenv/versions/3.12.7/lib/python3.12/site-packages (from kaggle==1.5.12) (1.16.0)\n",
      "Requirement already satisfied: certifi in /home/gitpod/.pyenv/versions/3.12.7/lib/python3.12/site-packages (from kaggle==1.5.12) (2024.8.30)\n",
      "Requirement already satisfied: python-dateutil in /home/gitpod/.pyenv/versions/3.12.7/lib/python3.12/site-packages (from kaggle==1.5.12) (2.9.0.post0)\n",
      "Requirement already satisfied: requests in /home/gitpod/.pyenv/versions/3.12.7/lib/python3.12/site-packages (from kaggle==1.5.12) (2.32.3)\n",
      "Requirement already satisfied: tqdm in /home/gitpod/.pyenv/versions/3.12.7/lib/python3.12/site-packages (from kaggle==1.5.12) (4.67.1)\n",
      "Requirement already satisfied: python-slugify in /home/gitpod/.pyenv/versions/3.12.7/lib/python3.12/site-packages (from kaggle==1.5.12) (8.0.4)\n",
      "Requirement already satisfied: urllib3 in /home/gitpod/.pyenv/versions/3.12.7/lib/python3.12/site-packages (from kaggle==1.5.12) (2.2.3)\n",
      "Requirement already satisfied: text-unidecode>=1.3 in /home/gitpod/.pyenv/versions/3.12.7/lib/python3.12/site-packages (from python-slugify->kaggle==1.5.12) (1.3)\n",
      "Requirement already satisfied: charset-normalizer<4,>=2 in /home/gitpod/.pyenv/versions/3.12.7/lib/python3.12/site-packages (from requests->kaggle==1.5.12) (3.4.0)\n",
      "Requirement already satisfied: idna<4,>=2.5 in /home/gitpod/.pyenv/versions/3.12.7/lib/python3.12/site-packages (from requests->kaggle==1.5.12) (3.10)\n",
      "\n",
      "\u001b[1m[\u001b[0m\u001b[34;49mnotice\u001b[0m\u001b[1;39;49m]\u001b[0m\u001b[39;49m A new release of pip is available: \u001b[0m\u001b[31;49m24.2\u001b[0m\u001b[39;49m -> \u001b[0m\u001b[32;49m24.3.1\u001b[0m\n",
      "\u001b[1m[\u001b[0m\u001b[34;49mnotice\u001b[0m\u001b[1;39;49m]\u001b[0m\u001b[39;49m To update, run: \u001b[0m\u001b[32;49m/home/gitpod/.pyenv/versions/3.12.7/bin/python3 -m pip install --upgrade pip\u001b[0m\n",
      "Note: you may need to restart the kernel to use updated packages.\n"
     ]
    }
   ],
   "source": [
    "%pip install kaggle==1.5.12"
   ]
  },
  {
   "cell_type": "markdown",
   "metadata": {
    "id": "ZY3l0-AxO93d"
   },
   "source": [
    "---"
   ]
  },
  {
   "cell_type": "markdown",
   "metadata": {
    "id": "uFQo3ycuO-v6"
   },
   "source": [
    "* Modify the Kaggle configuration directory and adjust the permissions of the Kaggle authentication JSON file."
   ]
  },
  {
   "cell_type": "code",
   "execution_count": 7,
   "metadata": {},
   "outputs": [],
   "source": [
    "os.environ['KAGGLE_CONFIG_DIR'] = os.getcwd()\n",
    "! chmod 600 kaggle.json\n",
    "\n"
   ]
  },
  {
   "cell_type": "markdown",
   "metadata": {},
   "source": [
    "#### Important consideration \n",
    "During the development of the ML model, I encountered a problem related to the compatibility of label names with the text displayed as predictions in the Powdery Mildew detector page. The names of the folders extracted from the Kaggle dataset were 'healthy' and 'powdery-mildew', resulting in label names ['powdery-mildew', 'healthy'].\n",
    "\n",
    "    labels = os.listdir(train_path)\n",
    "    print('Label for the images are',labels)\n",
    "\n",
    "    output : \n",
    "    Label for the images are ['powdery-mildew', 'healthy']\n",
    "\n",
    "However, when rendering the Powdery Mildew detector page, I noticed that the text showing the prediction result was compatible with the 'healthy' case but not with the 'powdery-mildew' one.\n",
    "\n",
    "Code snippet found on the *load_model_and_predict* function found on the ‘predictive_analysis.py” file :\n",
    "\n",
    "   st.write(\n",
    "       f'The predictive analysis indicates the leaf image is '\n",
    "       f'**{pred_class.lower()}** from Powderly Mildew.'\n",
    "   )\n",
    "\n",
    "Showing:\n",
    "* 'The predictive analysis indicates the leaf image is 'healthy' from Powderly Mildew'\n",
    "vs. \n",
    "* 'The predictive analysis indicates the leaf image is 'powdery-mildew' from Powderly Mildew'\n",
    "\n",
    "After consulting with colleagues and brainstorming solutions, I decided to change the label for the 'powdery-mildew' class to 'fungal-infected'. This involved renaming the folder containing the images and updating the label names accordingly.\n",
    "\n",
    "Here's the process I followed:\n",
    "\n",
    "1. Downloaded and extracted the dataset zip file.\n",
    "2. Renamed the 'powdery-mildew' folder to 'fungal-infected', which automatically updated all file names within.\n",
    "3. Removed the original zip file after ensuring all changes were made.\n",
    "        \n",
    "        labels = os.listdir(train_path)\n",
    "        print('Label for the images are',labels)\n",
    "\n",
    "        output : \n",
    "        Label for the images are ['fungal-infected', 'healthy']\n",
    "\n",
    "4. Repeated subsequent processes with the updated label names.\n",
    "\n",
    "To ensure correct execution of the Jupyter Notebooks, it's necessary to omit the step of downloading and opening a zip file through the notebook.\n",
    "The cells will be retained but commented out for documentation purposes.\n"
   ]
  },
  {
   "cell_type": "markdown",
   "metadata": {},
   "source": [
    "* Get the dataset path from the [Kaggle url](https://www.kaggle.com/datasets/codeinstitute/cherry-leaves) and set your destination folder.\n",
    "\n",
    "*information on the download un the previous cell*"
   ]
  },
  {
   "cell_type": "code",
   "execution_count": 11,
   "metadata": {},
   "outputs": [
    {
     "name": "stdout",
     "output_type": "stream",
     "text": [
      "Downloading cherry-leaves.zip to inputs/cherry-leaves_dataset\n",
      " 95%|███████████████████████████████████▉  | 52.0M/55.0M [00:02<00:00, 34.2MB/s]\n",
      "100%|██████████████████████████████████████| 55.0M/55.0M [00:02<00:00, 22.9MB/s]\n"
     ]
    }
   ],
   "source": [
    "KaggleDatasetPath = \"codeinstitute/cherry-leaves\"\n",
    "DestinationFolder = \"inputs/cherry-leaves_dataset/\"   \n",
    "! kaggle datasets download -d {KaggleDatasetPath} -p {DestinationFolder}"
   ]
  },
  {
   "cell_type": "markdown",
   "metadata": {},
   "source": [
    "---"
   ]
  },
  {
   "cell_type": "code",
   "execution_count": 14,
   "metadata": {},
   "outputs": [],
   "source": [
    "import zipfile\n",
    "with zipfile.ZipFile('inputs/cherry-leaves_dataset/cherry-leaves.zip', 'r') as zip_ref:\n",
    "    zip_ref.extractall('inputs/cherry-leaves_dataset')\n",
    "os.remove('inputs/cherry-leaves_dataset//cherry-leaves.zip')"
   ]
  },
  {
   "cell_type": "markdown",
   "metadata": {},
   "source": [
    "## Data Preparation "
   ]
  },
  {
   "cell_type": "markdown",
   "metadata": {},
   "source": [
    "* Checking and removing non image files"
   ]
  },
  {
   "cell_type": "code",
   "execution_count": 15,
   "metadata": {},
   "outputs": [],
   "source": [
    "def remove_non_image_file(my_data_dir):\n",
    "    image_extension = ('.png', '.jpg', '.jpeg')\n",
    "    folders = os.listdir(my_data_dir) \n",
    "    for folder in folders:\n",
    "        files = os.listdir(my_data_dir + '/' + folder)\n",
    "        \n",
    "        #print(files)\n",
    "        i = []\n",
    "        j = []\n",
    "        for given_file in files:\n",
    "            if not given_file.lower().endswith(image_extension):\n",
    "                file_location = my_data_dir + '/' + folder + '/' + given_file\n",
    "                os.remove(file_location) \n",
    "                i.append(1)\n",
    "            else:\n",
    "                j.append(1)\n",
    "                pass\n",
    "        print(f\"Folder: {folder} - has image file\",len(j))\n",
    "        print(f\"Folder: {folder} - has non-image file\",len(i))\n",
    "    \n",
    "    "
   ]
  },
  {
   "cell_type": "code",
   "execution_count": 14,
   "metadata": {},
   "outputs": [
    {
     "name": "stdout",
     "output_type": "stream",
     "text": [
      "Folder: fungal-infected - has image file 2104\n",
      "Folder: fungal-infected - has non-image file 0\n",
      "Folder: healthy - has image file 2104\n",
      "Folder: healthy - has non-image file 0\n"
     ]
    },
    {
     "ename": "IsADirectoryError",
     "evalue": "[Errno 21] Is a directory: 'inputs/cherry-leaves_dataset/cherry-leaves/test/fungal-infected'",
     "output_type": "error",
     "traceback": [
      "\u001b[0;31m---------------------------------------------------------------------------\u001b[0m",
      "\u001b[0;31mIsADirectoryError\u001b[0m                         Traceback (most recent call last)",
      "Cell \u001b[0;32mIn[14], line 1\u001b[0m\n\u001b[0;32m----> 1\u001b[0m \u001b[43mremove_non_image_file\u001b[49m\u001b[43m(\u001b[49m\u001b[43mmy_data_dir\u001b[49m\u001b[38;5;241;43m=\u001b[39;49m\u001b[38;5;124;43m'\u001b[39;49m\u001b[38;5;124;43minputs/cherry-leaves_dataset/cherry-leaves\u001b[39;49m\u001b[38;5;124;43m'\u001b[39;49m\u001b[43m)\u001b[49m\n",
      "Cell \u001b[0;32mIn[13], line 13\u001b[0m, in \u001b[0;36mremove_non_image_file\u001b[0;34m(my_data_dir)\u001b[0m\n\u001b[1;32m     11\u001b[0m \u001b[38;5;28;01mif\u001b[39;00m \u001b[38;5;129;01mnot\u001b[39;00m given_file\u001b[38;5;241m.\u001b[39mlower()\u001b[38;5;241m.\u001b[39mendswith(image_extension):\n\u001b[1;32m     12\u001b[0m     file_location \u001b[38;5;241m=\u001b[39m my_data_dir \u001b[38;5;241m+\u001b[39m \u001b[38;5;124m'\u001b[39m\u001b[38;5;124m/\u001b[39m\u001b[38;5;124m'\u001b[39m \u001b[38;5;241m+\u001b[39m folder \u001b[38;5;241m+\u001b[39m \u001b[38;5;124m'\u001b[39m\u001b[38;5;124m/\u001b[39m\u001b[38;5;124m'\u001b[39m \u001b[38;5;241m+\u001b[39m given_file\n\u001b[0;32m---> 13\u001b[0m     \u001b[43mos\u001b[49m\u001b[38;5;241;43m.\u001b[39;49m\u001b[43mremove\u001b[49m\u001b[43m(\u001b[49m\u001b[43mfile_location\u001b[49m\u001b[43m)\u001b[49m \n\u001b[1;32m     14\u001b[0m     i\u001b[38;5;241m.\u001b[39mappend(\u001b[38;5;241m1\u001b[39m)\n\u001b[1;32m     15\u001b[0m \u001b[38;5;28;01melse\u001b[39;00m:\n",
      "\u001b[0;31mIsADirectoryError\u001b[0m: [Errno 21] Is a directory: 'inputs/cherry-leaves_dataset/cherry-leaves/test/fungal-infected'"
     ]
    }
   ],
   "source": [
    "remove_non_image_file(my_data_dir='inputs/cherry-leaves_dataset/cherry-leaves')"
   ]
  },
  {
   "cell_type": "markdown",
   "metadata": {},
   "source": [
    "# Split train validation test set"
   ]
  },
  {
   "cell_type": "markdown",
   "metadata": {},
   "source": [
    "* We are dividing the data set into 3 subsets by using the \"split_train_validation_test_images\" function: <br/>\n",
    "    * Training Set<br/> \n",
    "    * Test Set  <br/>\n",
    "    * Validation Set "
   ]
  },
  {
   "cell_type": "code",
   "execution_count": 16,
   "metadata": {},
   "outputs": [],
   "source": [
    "import os\n",
    "import shutil\n",
    "import random\n",
    "import joblib\n",
    "\n",
    "def split_train_validation_test_images(my_data_dir, train_set_ratio, validation_set_ratio, test_set_ratio):\n",
    "  \n",
    "  if train_set_ratio + validation_set_ratio + test_set_ratio != 1.0:\n",
    "    print(\"train_set_ratio + validation_set_ratio + test_set_ratio should sum 1.0\")\n",
    "    return\n",
    "\n",
    "  # gets classes labels\n",
    "  labels = os.listdir(my_data_dir) # it should get only the folder name\n",
    "  if 'test' in labels:\n",
    "    pass\n",
    "  else: \n",
    "    # create train, test folders with classess labels sub-folder\n",
    "    for folder in ['train','validation','test']:\n",
    "      for label in labels:\n",
    "        os.makedirs(name=my_data_dir+ '/' + folder + '/' + label)\n",
    "\n",
    "    for label in labels:\n",
    "\n",
    "      files = os.listdir(my_data_dir + '/' + label)\n",
    "      random.shuffle(files)\n",
    "\n",
    "      train_set_files_qty = int(len(files) * train_set_ratio)\n",
    "      validation_set_files_qty = int(len(files) * validation_set_ratio)\n",
    "\n",
    "      count = 1\n",
    "      for file_name in files:\n",
    "        if count <= train_set_files_qty:\n",
    "          # move given file to train set\n",
    "          shutil.move(my_data_dir + '/' + label + '/' + file_name,\n",
    "                      my_data_dir + '/train/' + label + '/' + file_name)\n",
    "          \n",
    "\n",
    "        elif count <= (train_set_files_qty + validation_set_files_qty ):\n",
    "          # move given file to validation set\n",
    "          shutil.move(my_data_dir + '/' + label + '/' + file_name,\n",
    "                      my_data_dir + '/validation/' + label + '/' + file_name)\n",
    "\n",
    "        else:\n",
    "          # move given file to test set\n",
    "          shutil.move(my_data_dir + '/' + label + '/' + file_name,\n",
    "                  my_data_dir + '/test/' +label + '/'+ file_name)\n",
    "          \n",
    "        count += 1\n",
    "\n",
    "      os.rmdir(my_data_dir + '/' + label)\n",
    "    \n",
    "    # Print the number of files in each set after splitting\n",
    "    print(\"Number of files in Train set:\")\n",
    "    for label in labels:\n",
    "        train_files = os.listdir(my_data_dir + '/train/' + label)\n",
    "        print(f\"Class {label}: {len(train_files)}\")\n",
    "\n",
    "    print(\"\\nNumber of files in Validation set:\")\n",
    "    for label in labels:\n",
    "        validation_files = os.listdir(my_data_dir + '/validation/' + label)\n",
    "        print(f\"Class {label}: {len(validation_files)}\")\n",
    "\n",
    "    print(\"\\nNumber of files in Test set:\")\n",
    "    for label in labels:\n",
    "        test_files = os.listdir(my_data_dir + '/test/' + label)\n",
    "        print(f\"Class {label}: {len(test_files)}\")"
   ]
  },
  {
   "cell_type": "markdown",
   "metadata": {},
   "source": [
    "* By convention:\n",
    "\n",
    "    * The training set comprises 70% of the data.\n",
    "    * The validation set comprises 10% of the data.\n",
    "    * The test set comprises 20% of the data."
   ]
  },
  {
   "cell_type": "code",
   "execution_count": 17,
   "metadata": {},
   "outputs": [],
   "source": [
    "split_train_validation_test_images(my_data_dir = f\"inputs/cherry-leaves_dataset/cherry-leaves\",\n",
    "                        train_set_ratio = 0.7,\n",
    "                        validation_set_ratio=0.1,\n",
    "                        test_set_ratio=0.2\n",
    "                        )\n"
   ]
  },
  {
   "cell_type": "markdown",
   "metadata": {},
   "source": [
    "* Check number of images on each, Train, Validation and Test Sets."
   ]
  },
  {
   "cell_type": "code",
   "execution_count": 18,
   "metadata": {},
   "outputs": [
    {
     "name": "stdout",
     "output_type": "stream",
     "text": [
      "Number of images in the test set: 422\n",
      "Number of images in the train set: 1472\n",
      "Number of images in the validation set: 210\n"
     ]
    }
   ],
   "source": [
    "test_dir_healthy = 'inputs/cherry-leaves_dataset/cherry-leaves/test/healthy/'\n",
    "test_dir_powdery = 'inputs/cherry-leaves_dataset/cherry-leaves/test/fungal-infected/'\n",
    "\n",
    "train_dir_healthy= 'inputs/cherry-leaves_dataset/cherry-leaves/train/healthy/'\n",
    "train_dir_powdery = 'inputs/cherry-leaves_dataset/cherry-leaves/train/fungal-infected/'\n",
    "validation_dir_healthy = 'inputs/cherry-leaves_dataset/cherry-leaves/validation/healthy/'\n",
    "validation_dir_powdery = 'inputs/cherry-leaves_dataset/cherry-leaves/validation/fungal-infected/'\n",
    "\n",
    "# Function to count the number of files in a directory\n",
    "def count_files(my_data_dir):\n",
    "    return len(os.listdir(my_data_dir))\n",
    "\n",
    "# Count the number of images in each directory\n",
    "test_count = count_files(test_dir_healthy)\n",
    "test_count = count_files(test_dir_powdery)\n",
    "train_count = count_files(train_dir_healthy)\n",
    "train_count = count_files(train_dir_powdery)\n",
    "validation_count = count_files(validation_dir_healthy)\n",
    "validation_count = count_files(validation_dir_powdery)\n",
    "\n",
    "# Print the counts\n",
    "print(\"Number of images in the test set:\", test_count)\n",
    "print(\"Number of images in the train set:\", train_count)\n",
    "print(\"Number of images in the validation set:\", validation_count)"
   ]
  },
  {
   "cell_type": "markdown",
   "metadata": {},
   "source": []
  },
  {
   "cell_type": "markdown",
   "metadata": {},
   "source": [
    "## Push files to Repo "
   ]
  },
  {
   "cell_type": "code",
   "execution_count": 20,
   "metadata": {},
   "outputs": [
    {
     "name": "stdout",
     "output_type": "stream",
     "text": [
      "[main 7413745] Save the data Collection notebook\n",
      " 3 files changed, 100 insertions(+), 76 deletions(-)\n",
      " delete mode 100644 inputs/cherry-leaves_dataset/archive.zip\n"
     ]
    },
    {
     "name": "stderr",
     "output_type": "stream",
     "text": [
      "To https://github.com/FerchaPombo/mildew-detection-in-cherry-leaves.git\n",
      "   8dbd721..7413745  main -> main\n"
     ]
    }
   ],
   "source": [
    "import os\n",
    "try:\n",
    " # Change directory to your repository\n",
    "    os.chdir(\"/workspace/mildew-detection-in-cherry-leaves/\")\n",
    "\n",
    "    # Add all files to the staging area\n",
    "    os.system(\"git add .\")\n",
    "\n",
    "    # Commit the changes with a message\n",
    "    commit_message = \"Save the data Collection notebook \"\n",
    "    os.system(f\"git commit -m '{commit_message}'\")\n",
    "\n",
    "    # Push changes to the origin \n",
    "    os.system(\"git push origin main\")  \n",
    "except Exception as e:\n",
    "    print(e)"
   ]
  },
  {
   "cell_type": "markdown",
   "metadata": {},
   "source": [
    "---"
   ]
  },
  {
   "cell_type": "markdown",
   "metadata": {
    "id": "ltNetd085qHf"
   },
   "source": [
    "## Conclusions and Next Steps"
   ]
  },
  {
   "cell_type": "markdown",
   "metadata": {},
   "source": [
    "* In conclusion, the dataset acquired from FarmFood Inc. comprises two folders containing images of healthy and diseased leaves. No missing data was identified, and all data is in image format (jpg, jpeg, png). No additional data cleaning procedures were deemed necessary.\n",
    "\n",
    "* The dataset has been effectively partitioned into three sets—Train, Validation, and Test sets—following a conventional split ratio.\n",
    "\n",
    "* Subsequent stages of the data cycle will involve the implementation of data visualization techniques to provide a comprehensive graphical depiction for better understanding of the dataset."
   ]
  }
 ],
 "metadata": {
  "accelerator": "GPU",
  "colab": {
   "name": "Data Practitioner Jupyter Notebook.ipynb",
   "provenance": [],
   "toc_visible": true
  },
  "interpreter": {
   "hash": "8b8334dab9339717f727a1deaf837b322d7a41c20d15cc86be99a8e69ceec8ce"
  },
  "kernelspec": {
   "display_name": "python3.12",
   "language": "python",
   "name": "python3.12"
  },
  "orig_nbformat": 2
 },
 "nbformat": 4,
 "nbformat_minor": 2
}
